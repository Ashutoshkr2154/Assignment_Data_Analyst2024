{
 "cells": [
  {
   "cell_type": "markdown",
   "id": "a39e2c01-bd9d-47fc-9eb1-2e23d4f670c9",
   "metadata": {},
   "source": [
    "## 03 .Assignmnet - Functions.\n"
   ]
  },
  {
   "cell_type": "markdown",
   "id": "a150dae8-3b7e-4c48-8462-da33142f9d80",
   "metadata": {},
   "source": [
    "#### 1.What is the difference between a function and a method in Python"
   ]
  },
  {
   "cell_type": "markdown",
   "id": "806932de-759a-4f2f-96da-ce22a9a9b065",
   "metadata": {},
   "source": [
    "#### 1. Definition and Scope : \n",
    "- Functions: \n",
    "A Standalone block of code that performs a specific task . Functions are defined using 'def' keyword and can be called independently .\n",
    "- Methods: \n",
    "A Function that is associated with an object or class . \n",
    "Methods are defined within a class and can only be called on an instance of that class or the class itself. \n",
    "#### 2. Calling :\n",
    "- Function : \n",
    "Called by its name by parentheses , and can be used anywhere in the code . eg : 'function_name()'.\n",
    "- Method : \n",
    "Called on an object or class using the dot notation. Eg : 'object.method_name()' or 'class.method_name()'\n",
    "#### 3. Binding: \n",
    "- Function : \n",
    "Not bound to any specific object or class , it can accept any arguments . \n",
    "- Method : \n",
    "Bound to an object or class . Instance methods automatically recieve the instance('self') as the first argument ,and class methods receive the class('cls').\n",
    "#### 4. Usage: \n",
    "- Function: \n",
    "Used for general tasks and utility operations that don't need access to the object's or class's state.\n",
    "- Method : \n",
    "Used for operations that require access to the data stored in an oject  or need to manipulate the oject's state . \n",
    "#### 5. Location : \n",
    "- Function : \n",
    "Can be defined outside of class (in modules or scripts ) or within them as static methods . \n",
    "- Methods : \n",
    "Defined within a class and can be instance , methods class methods , or static methods , depending on their relationship to the object or class state . \n",
    "\n",
    "- Function Example :"
   ]
  },
  {
   "cell_type": "code",
   "execution_count": 2,
   "id": "120fab88-eb35-462c-abc5-ad913f7b0cac",
   "metadata": {},
   "outputs": [
    {
     "name": "stdout",
     "output_type": "stream",
     "text": [
      "Hello , Ashutosh!\n"
     ]
    }
   ],
   "source": [
    "def greet(name):\n",
    "    return f\"Hello , {name}!\"\n",
    "print(greet(\"Ashutosh\"))"
   ]
  },
  {
   "cell_type": "markdown",
   "id": "8d4b961e-7abb-44e0-a16b-85cc504275f3",
   "metadata": {},
   "source": [
    "- Method Example : \n",
    "    "
   ]
  },
  {
   "cell_type": "code",
   "execution_count": 3,
   "id": "298f7b5d-9813-466b-aaa5-df0dc1fa8b2c",
   "metadata": {},
   "outputs": [
    {
     "name": "stdout",
     "output_type": "stream",
     "text": [
      "Hello , Ashutosh!\n"
     ]
    }
   ],
   "source": [
    "class Greeter : \n",
    "    def __init__(self , name ):\n",
    "        self.name = name \n",
    "    \n",
    "    def greet(self):\n",
    "        return f\"Hello , {self.name}!\" \n",
    "\n",
    "greeter = Greeter(\"Ashutosh\")\n",
    "print(greeter.greet())"
   ]
  },
  {
   "cell_type": "markdown",
   "id": "3da1c046-2d0c-4d9a-a472-f02f80707939",
   "metadata": {},
   "source": [
    "#### 2. Explain the concept of function arguments and parameters in Python"
   ]
  },
  {
   "cell_type": "markdown",
   "id": "0b5d20b2-edff-4b89-af44-69d63c0a99a4",
   "metadata": {},
   "source": [
    "#### 1. Definition : \n",
    "- parameters : Variables listed inside the parenthesis in the function definition . They act as placeholders for the values(arguments) that will be passed to the function . \n",
    "\n",
    "- Arguments :  Actual values passed to the functions when it is called . These values are assigned to the corresponding parameters . \n",
    "\n",
    "#### 2. Types of Parameters : \n",
    "- Positional Parameters : Require arguments to be passed in the exact order they are defined . \n",
    "\n",
    "- Keywords Parameters : Allow arguments to be passed using the parameters name , which can be in any order  . \n",
    "- Default Parameters : Have default values specified in the function definition . If no arguments is passed , the default value is used . \n",
    "\n",
    "#### 3. Types of Arguments : \n",
    "- Positional Arguments : Passed to the function in the order of the parameters .\n",
    "\n",
    "- keyword Arguments : Passed using the name of the paramenter , allowing them to be passed in any order .\n",
    "\n",
    "- Variable-Length Arguments :Allow passing an arbitrary number of arguments using '*args' for non-keyword and '**kwargs' for keyword arguments . \n",
    "\n",
    "#### 4. Funciton Signature : \n",
    "- The Combination of parameters (positional , keyword, default , and variable-length ) in a function definition constitutes the function's signature . It determines how the function can be called . \n",
    "\n",
    "#### 5. Example : \n"
   ]
  },
  {
   "cell_type": "code",
   "execution_count": 4,
   "id": "d355ed3a-2ba4-478d-b68b-f842256a134e",
   "metadata": {},
   "outputs": [
    {
     "name": "stdout",
     "output_type": "stream",
     "text": [
      "a: 1\n",
      "b: 2\n",
      "args: (3, 4)\n",
      "kwargs: {'key1': 'value1', 'key2': 'value2'}\n"
     ]
    }
   ],
   "source": [
    "def example_function(a , b = 10 , *args , **kwargs):\n",
    "    print(\"a:\",a) \n",
    "    print(\"b:\", b)\n",
    "    print(\"args:\" , args)\n",
    "    print(\"kwargs:\" , kwargs)\n",
    "    \n",
    "example_function(1 , 2, 3, 4, key1 = \"value1\" , key2 =\"value2\")"
   ]
  },
  {
   "cell_type": "markdown",
   "id": "6d5b6dd6-65c4-48f7-8902-0fa0e438f4c1",
   "metadata": {},
   "source": [
    "- parameters 'a', b = 10 , '*args' , '**kwargs'. \n",
    "- Arguments '1', '2' , '3' , '4' , 'key1= \"value1\"' , 'key=\"value2\"'."
   ]
  },
  {
   "cell_type": "markdown",
   "id": "51a7815c-32c3-4500-b8da-d9194f1c10d3",
   "metadata": {},
   "source": [
    "### 3. What are the different ways to define and call a function in Python?\n",
    "\n",
    "There are several ways to define and call functions , each serving different purposes and proving various features . \n",
    "\n",
    "#### Defining Functions : \n",
    "- 1.Simple Function Definition : \n",
    "Defined using the 'def' keyword followed by the function name and parameters in parenthesis . "
   ]
  },
  {
   "cell_type": "code",
   "execution_count": 3,
   "id": "538cf493-9323-475c-99ec-ba0605045b4b",
   "metadata": {},
   "outputs": [],
   "source": [
    "def greet(name):\n",
    "    return f\"Hello, {name}!\""
   ]
  },
  {
   "cell_type": "markdown",
   "id": "7d07b63c-ff52-4049-ae19-b6dc10ae5f65",
   "metadata": {},
   "source": [
    "#### 2.Function with Default Parameters :\n",
    "- parameters can have default values , making them optional when calling the function . "
   ]
  },
  {
   "cell_type": "code",
   "execution_count": 4,
   "id": "9f00ba92-9d57-4fa9-8c9e-6ba81432ebfd",
   "metadata": {},
   "outputs": [],
   "source": [
    "def greet(name , greeting = \"Hello\") :\n",
    "    return f\"{greeting} , {name}! \""
   ]
  },
  {
   "cell_type": "markdown",
   "id": "0562c509-6cdb-449f-9f08-d117a7e934a9",
   "metadata": {},
   "source": [
    "#### 3. Function with Variable-length Arguments : \n",
    "- Positional Arguments : \n",
    "Uses '*args' to accept any number of positional arguments."
   ]
  },
  {
   "cell_type": "code",
   "execution_count": 25,
   "id": "6cfe9f01-e1c2-47c7-8b47-6a747c7508cb",
   "metadata": {},
   "outputs": [],
   "source": [
    "def add(*args):\n",
    "    return sum(args)"
   ]
  },
  {
   "cell_type": "markdown",
   "id": "606ea102-52f8-408c-b7aa-1664a0dcec49",
   "metadata": {},
   "source": [
    "- keyword Arguments:\n",
    "Uses '**kwargs' to accept any number of keyword arguments. \n"
   ]
  },
  {
   "cell_type": "code",
   "execution_count": 6,
   "id": "1f52f4e4-baea-499d-8291-b7f8beeaa502",
   "metadata": {},
   "outputs": [],
   "source": [
    "def print_info(**kwargs):\n",
    "    for key, value in kwargs.items():\n",
    "        print(f\"{key}:{value}\")"
   ]
  },
  {
   "cell_type": "markdown",
   "id": "b48cd47b-c4c3-46b7-9432-3a13129351c8",
   "metadata": {},
   "source": [
    "#### 4.Lambda Functions : \n",
    "- Anonymous functions defined using the 'lambda' keyword for short , simple operations . "
   ]
  },
  {
   "cell_type": "code",
   "execution_count": 23,
   "id": "e8a3dffa-94c6-4f50-8fb5-2a0b878f14da",
   "metadata": {},
   "outputs": [],
   "source": [
    "add = lambda x , y : x+ y "
   ]
  },
  {
   "cell_type": "markdown",
   "id": "f3dc4b24-98a9-4cec-861d-86588f01207f",
   "metadata": {},
   "source": [
    "#### 5. Nested Functions: \n",
    "- Functions defined within other functions for encapsulation and organization "
   ]
  },
  {
   "cell_type": "code",
   "execution_count": 8,
   "id": "26b5c2c0-4b25-47a3-9fe2-3aad8c5240f4",
   "metadata": {},
   "outputs": [],
   "source": [
    "def outer_function(text):\n",
    "    def inner_function():\n",
    "        return text.upper()\n",
    "    return inner_function()"
   ]
  },
  {
   "cell_type": "markdown",
   "id": "9bb0ca45-575c-47e0-a652-01f6122d2012",
   "metadata": {},
   "source": [
    "#### 6. Generator Functions :\n",
    "use the 'yield' keyword to produce a sequence of values lazily . "
   ]
  },
  {
   "cell_type": "code",
   "execution_count": 11,
   "id": "c5a72af6-6b48-4070-aa7b-081c1ebbaff7",
   "metadata": {},
   "outputs": [],
   "source": [
    "def count_up_to(max):\n",
    "    count = 1 \n",
    "    while count <= max:\n",
    "        yield count \n",
    "        count += 1 "
   ]
  },
  {
   "cell_type": "markdown",
   "id": "879cf82d-ab42-4270-92bd-eb3094d4a78b",
   "metadata": {},
   "source": [
    "#### Calling Functions: \n",
    "- 1. Calling a Simple Function : "
   ]
  },
  {
   "cell_type": "code",
   "execution_count": 16,
   "id": "7c1ea9fa-45fb-4028-aea8-0ca2dafb86af",
   "metadata": {},
   "outputs": [
    {
     "data": {
      "text/plain": [
       "'Hello , Ashutosh! '"
      ]
     },
     "execution_count": 16,
     "metadata": {},
     "output_type": "execute_result"
    }
   ],
   "source": [
    "result = greet(\"Ashutosh\")\n",
    "result "
   ]
  },
  {
   "cell_type": "markdown",
   "id": "386880f3-cae8-488b-9c9b-5df34b7af8a2",
   "metadata": {},
   "source": [
    "- 2. Calling Function with keyword Arguments: \n",
    "    "
   ]
  },
  {
   "cell_type": "code",
   "execution_count": 19,
   "id": "76861ee1-1e82-45b3-b52c-425a71af5a77",
   "metadata": {},
   "outputs": [
    {
     "data": {
      "text/plain": [
       "'Hello , Ashutosh! '"
      ]
     },
     "execution_count": 19,
     "metadata": {},
     "output_type": "execute_result"
    }
   ],
   "source": [
    "message = greet(name = \"Ashutosh\" , greeting = \"Hello\")\n",
    "message"
   ]
  },
  {
   "cell_type": "markdown",
   "id": "b970e791-523e-4caf-a08b-1479f40270b6",
   "metadata": {},
   "source": [
    "- 3. Calling a Function with default Parameters :\n",
    "    "
   ]
  },
  {
   "cell_type": "code",
   "execution_count": 20,
   "id": "cefe280a-07ef-4ca7-abd0-005c1b71db60",
   "metadata": {},
   "outputs": [
    {
     "data": {
      "text/plain": [
       "'Hello , Ashutosh! '"
      ]
     },
     "execution_count": 20,
     "metadata": {},
     "output_type": "execute_result"
    }
   ],
   "source": [
    "message = greet(\"Ashutosh\")\n",
    "message"
   ]
  },
  {
   "cell_type": "markdown",
   "id": "7cacd4ba-c52c-4ddf-ab43-c01b33b18cac",
   "metadata": {},
   "source": [
    "#### 4. Calling a Funciton with Variable-length Arguments: \n",
    "- Positional Arguments: "
   ]
  },
  {
   "cell_type": "code",
   "execution_count": 27,
   "id": "155d535d-5dfe-4756-90c8-a92267ea5e97",
   "metadata": {},
   "outputs": [
    {
     "data": {
      "text/plain": [
       "10"
      ]
     },
     "execution_count": 27,
     "metadata": {},
     "output_type": "execute_result"
    }
   ],
   "source": [
    "total = add(1 ,2 ,3 ,4)\n",
    "total"
   ]
  },
  {
   "cell_type": "markdown",
   "id": "db294aab-e98b-4c38-92fc-66baaf1fd744",
   "metadata": {},
   "source": [
    "- keyword Arguments:"
   ]
  },
  {
   "cell_type": "code",
   "execution_count": 28,
   "id": "897444d8-9bec-40a3-bbc7-4228385d071a",
   "metadata": {},
   "outputs": [
    {
     "name": "stdout",
     "output_type": "stream",
     "text": [
      "name:Ashutosh\n",
      "age:20\n"
     ]
    }
   ],
   "source": [
    "print_info(name = \"Ashutosh\" , age = 20)"
   ]
  },
  {
   "cell_type": "markdown",
   "id": "1e53f9de-6d97-41a5-a9be-e5fed893d1d1",
   "metadata": {},
   "source": [
    "#### 5. Calling a Lambda Function . "
   ]
  },
  {
   "cell_type": "code",
   "execution_count": 30,
   "id": "36b4b3f9-0b06-484f-80cf-24dd842fec45",
   "metadata": {},
   "outputs": [
    {
     "data": {
      "text/plain": [
       "8"
      ]
     },
     "execution_count": 30,
     "metadata": {},
     "output_type": "execute_result"
    }
   ],
   "source": [
    "result = add(5 , 3)\n",
    "result"
   ]
  },
  {
   "cell_type": "markdown",
   "id": "3dc4d8f6-2f22-4e44-b036-d305a3baff07",
   "metadata": {},
   "source": [
    "#### 6. Calling a generator Function . \n"
   ]
  },
  {
   "cell_type": "code",
   "execution_count": 31,
   "id": "91128366-6ec1-4c7a-8d67-cc4aceac892d",
   "metadata": {},
   "outputs": [
    {
     "name": "stdout",
     "output_type": "stream",
     "text": [
      "1\n",
      "2\n",
      "3\n",
      "4\n",
      "5\n"
     ]
    }
   ],
   "source": [
    "for number in count_up_to(5):\n",
    "    print(number)"
   ]
  },
  {
   "cell_type": "markdown",
   "id": "6833b473-439e-4254-a460-02ef1e43527e",
   "metadata": {},
   "source": [
    "#### Summary : \n",
    "- Simple Functions : For standard operations with fixed number of inputs . \n",
    "- Functions with Defaults : Simplifies calls by providing optional parameters . \n",
    "- Variable-length Arguments : Flexibility in the number of inputs . \n",
    "- Lambda Functions : For Concise , unnamed functions. \n",
    "- Nested Functions : For grouping related functionality . \n",
    "- Generator Functions : For Creating iterators with 'yield'.\n"
   ]
  },
  {
   "cell_type": "markdown",
   "id": "162737f2-8779-468c-91a2-bc2a2ab4c1d8",
   "metadata": {},
   "source": [
    "### 4. What is the purpose of the `return` statement in a Python function?\n",
    "\n",
    "The 'return' statement in a python function is used to exit the function and send a value back to the caller . Here are the key purposes and features of the 'return' statment :\n",
    "#### 1. Exiting a Function :\n",
    "- The 'return' statement immediately terminates the execution of a function and exits it . Once a 'return' statment is executed no further code in the function is run . \n",
    "\n",
    "#### 2. Returning a Value : \n",
    "- The primary purpose of 'return' is to provide a result of a function's computation back to the caller . This allows the function to pass data back to the part of the program that called it . \n",
    "\n",
    "#### 3. Multiple Return Values : \n",
    "- Python functions can return multiple values by seperating them with commas . These values are returned as a tuple . "
   ]
  },
  {
   "cell_type": "code",
   "execution_count": 1,
   "id": "37b4bb84-6c46-4415-8b49-b827a08c9142",
   "metadata": {},
   "outputs": [],
   "source": [
    "def get_point():\n",
    "    return  1 ,2 \n",
    "x , y = get_point()"
   ]
  },
  {
   "cell_type": "markdown",
   "id": "213e0f48-c5da-40f3-b433-34b95343420e",
   "metadata": {},
   "source": [
    "#### 4. Reutrning without a Value:\n",
    "- If a function has a 'return' statement without a value or if it reaches the end without a 'return' statement , it returns 'None' by default . "
   ]
  },
  {
   "cell_type": "code",
   "execution_count": 2,
   "id": "e507b903-fee6-42ae-82aa-9c0d050e333e",
   "metadata": {},
   "outputs": [],
   "source": [
    "def do_nothing():\n",
    "    return \n",
    "result = do_nothing()"
   ]
  },
  {
   "cell_type": "markdown",
   "id": "ec5da6a5-7429-47c1-a724-d9951f22ab82",
   "metadata": {},
   "source": [
    "#### 5. Control Flow:\n",
    "- The 'return' statement can be used to control the flow of a function by determining under what conditions the function should stop execution and return a value . "
   ]
  },
  {
   "cell_type": "markdown",
   "id": "b63807a4-e602-4d76-8b0c-a4093e18a33f",
   "metadata": {},
   "source": [
    "- Example Usage : \n"
   ]
  },
  {
   "cell_type": "code",
   "execution_count": 3,
   "id": "04c1923b-5fd8-418c-9b5f-3b93a35fb0fd",
   "metadata": {},
   "outputs": [
    {
     "name": "stdout",
     "output_type": "stream",
     "text": [
      "7\n"
     ]
    }
   ],
   "source": [
    "def add(a ,b):\n",
    "    return a + b \n",
    "result = add(3 , 4)\n",
    "print(result)"
   ]
  },
  {
   "cell_type": "markdown",
   "id": "c03cba00-122b-46c5-8e71-f0741f77c032",
   "metadata": {},
   "source": [
    "### 5. What are iterators in Python and how do they differ from iterables"
   ]
  },
  {
   "cell_type": "markdown",
   "id": "c932ceac-343c-4be1-a38e-0047dd980363",
   "metadata": {},
   "source": [
    "#### Iterators : \n",
    "1.Definition : \n",
    "- An iterator is an object that implements the iterator protocol , consisting of the methods 'iter ()' and '__next__()'.\n",
    "\n",
    "2.Functionality : \n",
    "- Iterators allows you to traverse through the elements of a collection one at a time.\n",
    "\n",
    "3.State Management : \n",
    "- Iterators maintain their state , remembering the current position during itretion . The '__next__()' method updates this state and returns the next element .\n",
    "\n",
    "4.Exhaustion: \n",
    "- Once an iterator has been exhausted , it raises a 'StopIteration' exception When '__next__()' is called again . \n",
    "\n",
    "5.Cretion : \n",
    "- You can obtain an iterator from an iterable using the 'iter()' function , or by creating a custom iterator class that implements '__iter__' and '__next__()' methods . \n",
    "\n",
    "#### Iterables : \n",
    "1.Definition: \n",
    "- An iterable is an object capable of returning its elements one at  a time , usually by implementing the '__iter__()' method.\n",
    "\n",
    "2.Usage :\n",
    "- Iterables can be passed to the 'iter()' function to produce an iterator , which can then be used to access their elements sequentially . \n",
    " \n",
    "3.Types : \n",
    "- Built-in iterables include lists , tuples , dictionaries , sets , and strings as well as any object implementing the '__iter__()' or '__getitem__()' methods . \n",
    "\n",
    "4.State :\n",
    "- Iterable do not maintain iteration state . They provide a fresh iterator each time  'iter()' is called . \n",
    "\n",
    "5.Reusability:\n",
    "- An iterable can be used to create multiple iterators , each capable of independent traversal over the data. \n",
    "\n",
    "### Key Differences : \n",
    "1.Implementaion:\n",
    "- iterable : Implements '__iter__()' and can produce new iterators . \n",
    "- iterator: Implements both '__iter__()' and '__next__()' , maintaining iteration state.\n",
    "\n",
    "2.State :\n",
    "- Iterable : Does not track iteration state . \n",
    "- Iterator : keeps track of its position within the sequence . \n",
    "\n",
    "3.Reusability : \n",
    "- Iterable : Can be used repeatedly to create new iterators . \n",
    "- Iterator : Can only iterate once through its elements unless reinitialized . \n",
    "\n",
    "4.Lifespan : \n",
    "- Iterable : Not inherently consumable , can produce multiple independent iterators . \n",
    "- Iterator : Consumable ; can be exausted after a single iteration . \n",
    "\n",
    "5.purpose: \n",
    "- Iterable :Provides data to iterate over . \n",
    "- Iterator :Provides the mechanism to access elements one by one . \n",
    "\n",
    "\n",
    "\n",
    "\n",
    "\n",
    "\n",
    "\n",
    "\n",
    "\n",
    "\n",
    "\n"
   ]
  },
  {
   "cell_type": "markdown",
   "id": "ceb2ab5d-47ca-42b3-b48a-c0de489a55a4",
   "metadata": {},
   "source": [
    "### 6. Explain the concept of generators in Python and how they are defined."
   ]
  },
  {
   "cell_type": "markdown",
   "id": "3fb2177a-48ca-4984-92c6-d81bfdc1e989",
   "metadata": {},
   "source": [
    "#### Generator: \n",
    "1.Definition : \n",
    "- Generators are a type of a iterable in python  that allows you to iterate over a sequence of values lazily , producing items one at a time and only when requested . They are defined using a special kind of function containing the 'yield' keyword . \n",
    "\n",
    "2.Creation :\n",
    "- Generators are created using generator functions or generator expressions . A generator function is defined like a regular function but uses 'yield' instead of 'return' to produce values once at a time . \n",
    "\n",
    "3.Yield Keyword : \n",
    "- The 'yeild' keyword is used in place of 'return' to provide a value and pause the function's  execution ,saving its state . When the generator's __next__() method is called , execution resumes right after the yield statement . \n",
    "\n",
    "4. Memory Efficiency :\n",
    "- Generators are memory efficient because they generate each item on the fly and do not store the entire sequence in memory, making them suitable for handling large datasets . \n",
    "\n",
    "5. Example "
   ]
  },
  {
   "cell_type": "code",
   "execution_count": 1,
   "id": "932c66b2-1981-48c5-8af1-d49104a74cbb",
   "metadata": {},
   "outputs": [
    {
     "name": "stdout",
     "output_type": "stream",
     "text": [
      "1\n",
      "2\n",
      "3\n",
      "4\n",
      "5\n"
     ]
    }
   ],
   "source": [
    "def count_up_to(max):\n",
    "    count = 1 \n",
    "    while count <= max:\n",
    "        yield count \n",
    "        count += 1 \n",
    "    \n",
    "# Using the generator \n",
    "for number in count_up_to(5):\n",
    "    print(number)"
   ]
  },
  {
   "cell_type": "markdown",
   "id": "07d5683e-f3f3-4cd8-8aff-6862e44b5150",
   "metadata": {},
   "source": [
    "- This example defines a generator function 'count_up_to' that yields number from 1 to 'max' . Each call to 'next()' on the generator resumes execution from the last 'yield' producing the next number of sequences . \n",
    "\n",
    "#### Key Features : \n",
    "- State Retention : Generators remember their state between successive calls , which allows them to resume execution where they left off . \n",
    "\n",
    "- Lazy Evaluation : Values are generated on demand , which can imporve performance and reduce memory usage .\n",
    "\n",
    "- infinite Sequences : Generators can be used to represent infinite sequences because they compute values as needed . \n",
    "\n",
    "- Simpler Code : Generators allow for clearer and more concise code , especially when working with large data streams or complex iteration logic . \n",
    "\n",
    "Generators provide a powerful and efficient way to handle data streams and sequences in Python , leveraging the flexibilty of iteration with minimal overhead . "
   ]
  },
  {
   "cell_type": "markdown",
   "id": "d52e9cc5-fb28-4eea-80e4-ca0b70a9d62e",
   "metadata": {},
   "source": [
    "### 7. What are the advantages of using generators over regular functions?\n",
    "\n",
    "Here  are some advantages of using generators over  regular functions :\n",
    "1. Memory Efficient : Generators yield items one at a time and only keep the current item  in memory , making them ideal for working with large datasets . \n",
    "\n",
    "2. Lazy Evaluation : Generators evaluate elements on the fly , allowing for operations  on finite sequences and reducing initial computation time . \n",
    "\n",
    "3. Simpler Code : using 'yeild' in generators can simplfy code by maintaining state between iterations without the need for explicit data structures . \n",
    "\n",
    "4. Improved performance : Since generators produce items one at a time , they can start processing sooner and often execute faster for large or streamed data . \n",
    "\n",
    "5. Pipeline Processing : Generators can be chained together to create data processing pipelines , enhancing modularity and reusability of code . \n"
   ]
  },
  {
   "cell_type": "markdown",
   "id": "2ecb2225-c8f0-4233-b6b2-d6f1961235f1",
   "metadata": {},
   "source": [
    "### 8. What is a lambda function in Python and when is it typically used?\n",
    "1. Anonymous Functions : Lambda functions are small , unamed (anonymous) functions created with the 'lambda' keyword , typically used for short term use . \n",
    "\n",
    "2. Single Expression : They can only contain a single expression and return its result , making them concise and readable for simple operations. \n",
    "\n",
    "3. Use in Higher-Order Funcitons: Often used as arguments to higher order functions like 'map()' , 'filter()' , and 'sorted()' to specify small operations inline.\n",
    "\n",
    "4. Inline Usage : Convenient for scenarios where a function is needed for a short period , reducing the need for defining and naming a full  function .\n",
    "\n",
    "5. Functional Programming : Useful in funcitonal programming contexts where functions are passed as arguments or returned from other functions . "
   ]
  },
  {
   "cell_type": "markdown",
   "id": "f5649bcf-c977-48cf-8520-974a99e12d80",
   "metadata": {},
   "source": [
    "### 9. Explain the purpose and usage of the `map()` function in Python.\n",
    "1. Purpose: The 'map()' function applies a given function to all the map items in an iterable (such as list , tuple , or set) and returns a map object(an iterator) with the results . \n",
    "\n",
    "2. Syntax: The basic syntax is 'map'(function , iterable , ... ) . The function is applied to each element of the iterable . \n",
    "\n",
    "3. Multiple iterable: If more than one iterable is provided , the function must take many arguments , and it is applied to items from the iterables in parallel . \n",
    "\n",
    "4. Returns an Iterator : The 'map()' funciton an iterator , which can be converted to a list , or set using 'list()' , 'tuple()' or 'set()'.\n",
    "\n",
    "5. Use Case : It is useful for applying simple operations (like type conversions or arithmetic  operations ) across elements without using an explicit loop . \n",
    "- Example:\n"
   ]
  },
  {
   "cell_type": "code",
   "execution_count": 1,
   "id": "31403f86-a9c0-4ace-a3ff-bcc893316578",
   "metadata": {},
   "outputs": [
    {
     "name": "stdout",
     "output_type": "stream",
     "text": [
      "[1, 4, 9, 16]\n"
     ]
    }
   ],
   "source": [
    "numbers= [ 1 ,2,3, 4]\n",
    "squared = map(lambda x : x**2 , numbers)\n",
    "print(list(squared ))## Output : [1 , 4, 9 , 16]"
   ]
  },
  {
   "cell_type": "markdown",
   "id": "d4943a4c-c0ba-4532-8153-0f7bf3b16a27",
   "metadata": {},
   "source": [
    "#### 10. What is the difference between `map()`, `reduce()`, and `filter()` functions in Python? "
   ]
  },
  {
   "cell_type": "markdown",
   "id": "97fa6308-1072-4686-9053-23b57c5d946a",
   "metadata": {},
   "source": [
    "The differences between the map() , reduce() , and filter () functions in python are as follows : -\n",
    "\n",
    "1. Purpose :\n",
    "- map() : Applies a specified function to each item of an iterable and returns an iterator with the results. \n",
    "\n",
    "- reduce() : Applies a specified function cummlatively to the items of an iterable , reducing it to a single value . \n",
    "\n",
    "- Filter(): Filter elements of an iterable by applying a function that returns a Boolean value and returns an iterator with only the elements that satisfy the condition . \n",
    "\n",
    "2. Return Type: \n",
    "- map() : Returns a map object , which is an iterator of the transformed elements. \n",
    "\n",
    "- reduce() : Returns a single aggregated value (not an iterator).\n",
    "\n",
    "- filter() : Returns a filter object , which is an iterator of the elements that satisfy the condition . \n",
    "\n",
    "3. Function Signature : \n",
    "- map() (fucntion , iterable , ...) : Takes a function and one or more iterables. \n",
    "\n",
    "- reduce(functions , iterable , [, initializer]): Take a function and an iterable (Optional initializer).\n",
    "\n",
    "- Filter(functions  , iterable ): Takes a function and a single iterable . \n",
    "\n",
    "4. USe Case:\n",
    "- map(): USed for transforming data \n",
    "- reduce() : Used for aggregating data (eg. summing , multiplying), \n",
    "- filter() : used for selecting data based on a condition . \n",
    "\n",
    "5. Example : \n",
    "- mas() : map(lambda x : x *2 , [1 ,2 , 3 ] result in [2 , 4 , 6])\n",
    "\n",
    "- reduce() : reduce(lambda x , y : x + y ,[ 1 , 2, 3]) results in 6 .\n",
    "\n",
    "- filter (): filter (lambda x :x >1 , [1 ,2  , 3])results in [ 2, 3]"
   ]
  },
  {
   "cell_type": "markdown",
   "id": "4fade178-4154-471a-91a2-27ae2c65d953",
   "metadata": {
    "tags": []
   },
   "source": [
    "#### 11. Using pen & Paper write the internal mechanism for sum operation using  reduce function on this given\n",
    "list:[47,11,42,13];"
   ]
  },
  {
   "cell_type": "code",
   "execution_count": null,
   "id": "bb00ff88-7737-4006-a71b-83566b258dbe",
   "metadata": {},
   "outputs": [],
   "source": []
  }
 ],
 "metadata": {
  "kernelspec": {
   "display_name": "Python 3 (ipykernel)",
   "language": "python",
   "name": "python3"
  },
  "language_info": {
   "codemirror_mode": {
    "name": "ipython",
    "version": 3
   },
   "file_extension": ".py",
   "mimetype": "text/x-python",
   "name": "python",
   "nbconvert_exporter": "python",
   "pygments_lexer": "ipython3",
   "version": "3.10.8"
  }
 },
 "nbformat": 4,
 "nbformat_minor": 5
}
